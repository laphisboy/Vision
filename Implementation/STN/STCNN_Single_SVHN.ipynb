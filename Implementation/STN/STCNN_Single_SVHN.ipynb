{
  "nbformat": 4,
  "nbformat_minor": 0,
  "metadata": {
    "colab": {
      "name": "SVHN_ST_Single_CNN.ipynb",
      "provenance": [],
      "collapsed_sections": []
    },
    "kernelspec": {
      "name": "python3",
      "display_name": "Python 3"
    },
    "accelerator": "GPU",
    "widgets": {
      "application/vnd.jupyter.widget-state+json": {
        "f5bd661988094cc5ae15be3e56d591e5": {
          "model_module": "@jupyter-widgets/controls",
          "model_name": "HBoxModel",
          "state": {
            "_view_name": "HBoxView",
            "_dom_classes": [],
            "_model_name": "HBoxModel",
            "_view_module": "@jupyter-widgets/controls",
            "_model_module_version": "1.5.0",
            "_view_count": null,
            "_view_module_version": "1.5.0",
            "box_style": "",
            "layout": "IPY_MODEL_43f1ebca0a074515a168c6b449caf40c",
            "_model_module": "@jupyter-widgets/controls",
            "children": [
              "IPY_MODEL_9a69a0f30b52453dbe97fa96a55a4682",
              "IPY_MODEL_a0c15e7e6cf54866b83aaf8208d70a70"
            ]
          }
        },
        "43f1ebca0a074515a168c6b449caf40c": {
          "model_module": "@jupyter-widgets/base",
          "model_name": "LayoutModel",
          "state": {
            "_view_name": "LayoutView",
            "grid_template_rows": null,
            "right": null,
            "justify_content": null,
            "_view_module": "@jupyter-widgets/base",
            "overflow": null,
            "_model_module_version": "1.2.0",
            "_view_count": null,
            "flex_flow": null,
            "width": null,
            "min_width": null,
            "border": null,
            "align_items": null,
            "bottom": null,
            "_model_module": "@jupyter-widgets/base",
            "top": null,
            "grid_column": null,
            "overflow_y": null,
            "overflow_x": null,
            "grid_auto_flow": null,
            "grid_area": null,
            "grid_template_columns": null,
            "flex": null,
            "_model_name": "LayoutModel",
            "justify_items": null,
            "grid_row": null,
            "max_height": null,
            "align_content": null,
            "visibility": null,
            "align_self": null,
            "height": null,
            "min_height": null,
            "padding": null,
            "grid_auto_rows": null,
            "grid_gap": null,
            "max_width": null,
            "order": null,
            "_view_module_version": "1.2.0",
            "grid_template_areas": null,
            "object_position": null,
            "object_fit": null,
            "grid_auto_columns": null,
            "margin": null,
            "display": null,
            "left": null
          }
        },
        "9a69a0f30b52453dbe97fa96a55a4682": {
          "model_module": "@jupyter-widgets/controls",
          "model_name": "FloatProgressModel",
          "state": {
            "_view_name": "ProgressView",
            "style": "IPY_MODEL_dd8e258ed3af4533b7fcd86c7148ac28",
            "_dom_classes": [],
            "description": "",
            "_model_name": "FloatProgressModel",
            "bar_style": "success",
            "max": 1,
            "_view_module": "@jupyter-widgets/controls",
            "_model_module_version": "1.5.0",
            "value": 1,
            "_view_count": null,
            "_view_module_version": "1.5.0",
            "orientation": "horizontal",
            "min": 0,
            "description_tooltip": null,
            "_model_module": "@jupyter-widgets/controls",
            "layout": "IPY_MODEL_eca20fcbec3547eca7c0b24ae8f95510"
          }
        },
        "a0c15e7e6cf54866b83aaf8208d70a70": {
          "model_module": "@jupyter-widgets/controls",
          "model_name": "HTMLModel",
          "state": {
            "_view_name": "HTMLView",
            "style": "IPY_MODEL_d8fb48872d0d4819afdfbf58267ddf65",
            "_dom_classes": [],
            "description": "",
            "_model_name": "HTMLModel",
            "placeholder": "​",
            "_view_module": "@jupyter-widgets/controls",
            "_model_module_version": "1.5.0",
            "value": " 182042624/? [00:07&lt;00:00, 25521054.75it/s]",
            "_view_count": null,
            "_view_module_version": "1.5.0",
            "description_tooltip": null,
            "_model_module": "@jupyter-widgets/controls",
            "layout": "IPY_MODEL_426f9a1defb140ef93d22a143e3e1270"
          }
        },
        "dd8e258ed3af4533b7fcd86c7148ac28": {
          "model_module": "@jupyter-widgets/controls",
          "model_name": "ProgressStyleModel",
          "state": {
            "_view_name": "StyleView",
            "_model_name": "ProgressStyleModel",
            "description_width": "initial",
            "_view_module": "@jupyter-widgets/base",
            "_model_module_version": "1.5.0",
            "_view_count": null,
            "_view_module_version": "1.2.0",
            "bar_color": null,
            "_model_module": "@jupyter-widgets/controls"
          }
        },
        "eca20fcbec3547eca7c0b24ae8f95510": {
          "model_module": "@jupyter-widgets/base",
          "model_name": "LayoutModel",
          "state": {
            "_view_name": "LayoutView",
            "grid_template_rows": null,
            "right": null,
            "justify_content": null,
            "_view_module": "@jupyter-widgets/base",
            "overflow": null,
            "_model_module_version": "1.2.0",
            "_view_count": null,
            "flex_flow": null,
            "width": null,
            "min_width": null,
            "border": null,
            "align_items": null,
            "bottom": null,
            "_model_module": "@jupyter-widgets/base",
            "top": null,
            "grid_column": null,
            "overflow_y": null,
            "overflow_x": null,
            "grid_auto_flow": null,
            "grid_area": null,
            "grid_template_columns": null,
            "flex": null,
            "_model_name": "LayoutModel",
            "justify_items": null,
            "grid_row": null,
            "max_height": null,
            "align_content": null,
            "visibility": null,
            "align_self": null,
            "height": null,
            "min_height": null,
            "padding": null,
            "grid_auto_rows": null,
            "grid_gap": null,
            "max_width": null,
            "order": null,
            "_view_module_version": "1.2.0",
            "grid_template_areas": null,
            "object_position": null,
            "object_fit": null,
            "grid_auto_columns": null,
            "margin": null,
            "display": null,
            "left": null
          }
        },
        "d8fb48872d0d4819afdfbf58267ddf65": {
          "model_module": "@jupyter-widgets/controls",
          "model_name": "DescriptionStyleModel",
          "state": {
            "_view_name": "StyleView",
            "_model_name": "DescriptionStyleModel",
            "description_width": "",
            "_view_module": "@jupyter-widgets/base",
            "_model_module_version": "1.5.0",
            "_view_count": null,
            "_view_module_version": "1.2.0",
            "_model_module": "@jupyter-widgets/controls"
          }
        },
        "426f9a1defb140ef93d22a143e3e1270": {
          "model_module": "@jupyter-widgets/base",
          "model_name": "LayoutModel",
          "state": {
            "_view_name": "LayoutView",
            "grid_template_rows": null,
            "right": null,
            "justify_content": null,
            "_view_module": "@jupyter-widgets/base",
            "overflow": null,
            "_model_module_version": "1.2.0",
            "_view_count": null,
            "flex_flow": null,
            "width": null,
            "min_width": null,
            "border": null,
            "align_items": null,
            "bottom": null,
            "_model_module": "@jupyter-widgets/base",
            "top": null,
            "grid_column": null,
            "overflow_y": null,
            "overflow_x": null,
            "grid_auto_flow": null,
            "grid_area": null,
            "grid_template_columns": null,
            "flex": null,
            "_model_name": "LayoutModel",
            "justify_items": null,
            "grid_row": null,
            "max_height": null,
            "align_content": null,
            "visibility": null,
            "align_self": null,
            "height": null,
            "min_height": null,
            "padding": null,
            "grid_auto_rows": null,
            "grid_gap": null,
            "max_width": null,
            "order": null,
            "_view_module_version": "1.2.0",
            "grid_template_areas": null,
            "object_position": null,
            "object_fit": null,
            "grid_auto_columns": null,
            "margin": null,
            "display": null,
            "left": null
          }
        },
        "91d3b90149f4474eac4ceeb5879e8c01": {
          "model_module": "@jupyter-widgets/controls",
          "model_name": "HBoxModel",
          "state": {
            "_view_name": "HBoxView",
            "_dom_classes": [],
            "_model_name": "HBoxModel",
            "_view_module": "@jupyter-widgets/controls",
            "_model_module_version": "1.5.0",
            "_view_count": null,
            "_view_module_version": "1.5.0",
            "box_style": "",
            "layout": "IPY_MODEL_749b75bc0fff4fddb8b0747e661a5560",
            "_model_module": "@jupyter-widgets/controls",
            "children": [
              "IPY_MODEL_d6d142c819fa4c54b86e77cd60fa549f",
              "IPY_MODEL_398e2aa9364945a8a3b1a976ce206bbd"
            ]
          }
        },
        "749b75bc0fff4fddb8b0747e661a5560": {
          "model_module": "@jupyter-widgets/base",
          "model_name": "LayoutModel",
          "state": {
            "_view_name": "LayoutView",
            "grid_template_rows": null,
            "right": null,
            "justify_content": null,
            "_view_module": "@jupyter-widgets/base",
            "overflow": null,
            "_model_module_version": "1.2.0",
            "_view_count": null,
            "flex_flow": null,
            "width": null,
            "min_width": null,
            "border": null,
            "align_items": null,
            "bottom": null,
            "_model_module": "@jupyter-widgets/base",
            "top": null,
            "grid_column": null,
            "overflow_y": null,
            "overflow_x": null,
            "grid_auto_flow": null,
            "grid_area": null,
            "grid_template_columns": null,
            "flex": null,
            "_model_name": "LayoutModel",
            "justify_items": null,
            "grid_row": null,
            "max_height": null,
            "align_content": null,
            "visibility": null,
            "align_self": null,
            "height": null,
            "min_height": null,
            "padding": null,
            "grid_auto_rows": null,
            "grid_gap": null,
            "max_width": null,
            "order": null,
            "_view_module_version": "1.2.0",
            "grid_template_areas": null,
            "object_position": null,
            "object_fit": null,
            "grid_auto_columns": null,
            "margin": null,
            "display": null,
            "left": null
          }
        },
        "d6d142c819fa4c54b86e77cd60fa549f": {
          "model_module": "@jupyter-widgets/controls",
          "model_name": "FloatProgressModel",
          "state": {
            "_view_name": "ProgressView",
            "style": "IPY_MODEL_92c6db945fcf4e5499fa209dc91d2876",
            "_dom_classes": [],
            "description": "",
            "_model_name": "FloatProgressModel",
            "bar_style": "info",
            "max": 1,
            "_view_module": "@jupyter-widgets/controls",
            "_model_module_version": "1.5.0",
            "value": 1,
            "_view_count": null,
            "_view_module_version": "1.5.0",
            "orientation": "horizontal",
            "min": 0,
            "description_tooltip": null,
            "_model_module": "@jupyter-widgets/controls",
            "layout": "IPY_MODEL_f5b3e15c16e742eda9799f0dd6f96d36"
          }
        },
        "398e2aa9364945a8a3b1a976ce206bbd": {
          "model_module": "@jupyter-widgets/controls",
          "model_name": "HTMLModel",
          "state": {
            "_view_name": "HTMLView",
            "style": "IPY_MODEL_47b2caaee8c2452c85ded9797418760d",
            "_dom_classes": [],
            "description": "",
            "_model_name": "HTMLModel",
            "placeholder": "​",
            "_view_module": "@jupyter-widgets/controls",
            "_model_module_version": "1.5.0",
            "value": " 64282624/? [00:20&lt;00:00, 31732274.40it/s]",
            "_view_count": null,
            "_view_module_version": "1.5.0",
            "description_tooltip": null,
            "_model_module": "@jupyter-widgets/controls",
            "layout": "IPY_MODEL_ce30825b4133455486b5098924c91cc6"
          }
        },
        "92c6db945fcf4e5499fa209dc91d2876": {
          "model_module": "@jupyter-widgets/controls",
          "model_name": "ProgressStyleModel",
          "state": {
            "_view_name": "StyleView",
            "_model_name": "ProgressStyleModel",
            "description_width": "initial",
            "_view_module": "@jupyter-widgets/base",
            "_model_module_version": "1.5.0",
            "_view_count": null,
            "_view_module_version": "1.2.0",
            "bar_color": null,
            "_model_module": "@jupyter-widgets/controls"
          }
        },
        "f5b3e15c16e742eda9799f0dd6f96d36": {
          "model_module": "@jupyter-widgets/base",
          "model_name": "LayoutModel",
          "state": {
            "_view_name": "LayoutView",
            "grid_template_rows": null,
            "right": null,
            "justify_content": null,
            "_view_module": "@jupyter-widgets/base",
            "overflow": null,
            "_model_module_version": "1.2.0",
            "_view_count": null,
            "flex_flow": null,
            "width": null,
            "min_width": null,
            "border": null,
            "align_items": null,
            "bottom": null,
            "_model_module": "@jupyter-widgets/base",
            "top": null,
            "grid_column": null,
            "overflow_y": null,
            "overflow_x": null,
            "grid_auto_flow": null,
            "grid_area": null,
            "grid_template_columns": null,
            "flex": null,
            "_model_name": "LayoutModel",
            "justify_items": null,
            "grid_row": null,
            "max_height": null,
            "align_content": null,
            "visibility": null,
            "align_self": null,
            "height": null,
            "min_height": null,
            "padding": null,
            "grid_auto_rows": null,
            "grid_gap": null,
            "max_width": null,
            "order": null,
            "_view_module_version": "1.2.0",
            "grid_template_areas": null,
            "object_position": null,
            "object_fit": null,
            "grid_auto_columns": null,
            "margin": null,
            "display": null,
            "left": null
          }
        },
        "47b2caaee8c2452c85ded9797418760d": {
          "model_module": "@jupyter-widgets/controls",
          "model_name": "DescriptionStyleModel",
          "state": {
            "_view_name": "StyleView",
            "_model_name": "DescriptionStyleModel",
            "description_width": "",
            "_view_module": "@jupyter-widgets/base",
            "_model_module_version": "1.5.0",
            "_view_count": null,
            "_view_module_version": "1.2.0",
            "_model_module": "@jupyter-widgets/controls"
          }
        },
        "ce30825b4133455486b5098924c91cc6": {
          "model_module": "@jupyter-widgets/base",
          "model_name": "LayoutModel",
          "state": {
            "_view_name": "LayoutView",
            "grid_template_rows": null,
            "right": null,
            "justify_content": null,
            "_view_module": "@jupyter-widgets/base",
            "overflow": null,
            "_model_module_version": "1.2.0",
            "_view_count": null,
            "flex_flow": null,
            "width": null,
            "min_width": null,
            "border": null,
            "align_items": null,
            "bottom": null,
            "_model_module": "@jupyter-widgets/base",
            "top": null,
            "grid_column": null,
            "overflow_y": null,
            "overflow_x": null,
            "grid_auto_flow": null,
            "grid_area": null,
            "grid_template_columns": null,
            "flex": null,
            "_model_name": "LayoutModel",
            "justify_items": null,
            "grid_row": null,
            "max_height": null,
            "align_content": null,
            "visibility": null,
            "align_self": null,
            "height": null,
            "min_height": null,
            "padding": null,
            "grid_auto_rows": null,
            "grid_gap": null,
            "max_width": null,
            "order": null,
            "_view_module_version": "1.2.0",
            "grid_template_areas": null,
            "object_position": null,
            "object_fit": null,
            "grid_auto_columns": null,
            "margin": null,
            "display": null,
            "left": null
          }
        }
      }
    }
  },
  "cells": [
    {
      "cell_type": "code",
      "metadata": {
        "id": "Hp-41-zhkpcW",
        "colab": {
          "base_uri": "https://localhost:8080/"
        },
        "outputId": "804a6493-e21e-4a8a-bf53-5f12b49f99b1"
      },
      "source": [
        "from google.colab import drive\r\n",
        "drive.mount('/content/gdrive')\r\n",
        "# data is preprocessed by taking 64x64 crops around each digit sequence\r\n",
        "\r\n",
        "# train baseline character seqeunce CNN model\r\n",
        "\r\n",
        "# CNN with 11 hiddenlayers\r\n",
        "\r\n",
        "# five independent softmax classifiers\r\n",
        "\r\n",
        "# # each classifier includes null-character output to model variable length seq\r\n",
        "MODELPATH = '/content/gdrive/My Drive/Colab Notebooks/yai7_CV1/modelsave/'"
      ],
      "execution_count": 5,
      "outputs": [
        {
          "output_type": "stream",
          "text": [
            "Drive already mounted at /content/gdrive; to attempt to forcibly remount, call drive.mount(\"/content/gdrive\", force_remount=True).\n"
          ],
          "name": "stdout"
        }
      ]
    },
    {
      "cell_type": "code",
      "metadata": {
        "id": "xvcsc9cglQiR"
      },
      "source": [
        "# ST-CNN single\r\n",
        "\r\n",
        "# ST-CNN multi"
      ],
      "execution_count": 6,
      "outputs": []
    },
    {
      "cell_type": "code",
      "metadata": {
        "id": "ClfewU-6lnUq"
      },
      "source": [
        "# localization network \r\n",
        "\r\n",
        "# two layer fully connected network with 32 units per layer"
      ],
      "execution_count": 7,
      "outputs": []
    },
    {
      "cell_type": "code",
      "metadata": {
        "id": "hRW2r5fvluH3"
      },
      "source": [
        "# trained from scratch with SGD and dropout\r\n",
        "# batchj size 128\r\n",
        "# 400k iterations\r\n",
        "# learning rate of 0.01 decrease 1/10 every 80k iter\r\n",
        "# weight decay 0.0005\r\n",
        "# dropout 0.5 for all layters except first conv layer and localization network\r\n",
        "# learning rate for Spatial transformer network = 1/10 of base learning rate\r\n",
        "\r\n",
        "\r\n",
        "# random initialized weights\r\n",
        "\r\n",
        "# regression layer of spatial transformer are intitialized to predict identity transform"
      ],
      "execution_count": 8,
      "outputs": []
    },
    {
      "cell_type": "code",
      "metadata": {
        "id": "oIemZEj4mkvz"
      },
      "source": [
        "#conv[48,5,1,2]-max[2]-\r\n",
        "#conv[64,5,1,2]-conv[128,5,1,2]-max[2]-conv[160,5,1,2]-conv[192,5,1,2]-max[2]-conv[192,5,1,2]-\r\n",
        "#conv[192,5,1,2]-max[2]-conv[192,5,1,2]-fc[3072]-fc[3072]-fc[3072]]\r\n",
        "\r\n",
        "# with ReLU after each layer\r\n",
        "\r\n",
        "# followed by 5 parallel fc + softmax for classification\r\n",
        "\r\n",
        "\r\n",
        "# ST single\r\n",
        "# conv[32,5,1,2]-max[2]-conv[32,5,1,2]-fc[32]-fc[32]\r\n",
        "# vs ST multi\r\n",
        "# fc[32]-fc[32]\r\n"
      ],
      "execution_count": 9,
      "outputs": []
    },
    {
      "cell_type": "code",
      "metadata": {
        "colab": {
          "base_uri": "https://localhost:8080/"
        },
        "id": "RKVbJ_nNpWoo",
        "outputId": "8a83aea0-d54b-4158-8bd4-e14ab0704a00"
      },
      "source": [
        "gpu_info = !nvidia-smi\r\n",
        "gpu_info = '\\n'.join(gpu_info)\r\n",
        "if gpu_info.find('failed') >= 0:\r\n",
        "  print('Select the Runtime > \"Change runtime type\" menu to enable a GPU accelerator, ')\r\n",
        "  print('and then re-execute this cell.')\r\n",
        "else:\r\n",
        "  print(gpu_info)"
      ],
      "execution_count": 10,
      "outputs": [
        {
          "output_type": "stream",
          "text": [
            "Mon Feb 15 12:04:06 2021       \n",
            "+-----------------------------------------------------------------------------+\n",
            "| NVIDIA-SMI 460.39       Driver Version: 460.32.03    CUDA Version: 11.2     |\n",
            "|-------------------------------+----------------------+----------------------+\n",
            "| GPU  Name        Persistence-M| Bus-Id        Disp.A | Volatile Uncorr. ECC |\n",
            "| Fan  Temp  Perf  Pwr:Usage/Cap|         Memory-Usage | GPU-Util  Compute M. |\n",
            "|                               |                      |               MIG M. |\n",
            "|===============================+======================+======================|\n",
            "|   0  Tesla T4            Off  | 00000000:00:04.0 Off |                    0 |\n",
            "| N/A   67C    P8    11W /  70W |      0MiB / 15109MiB |      0%      Default |\n",
            "|                               |                      |                  N/A |\n",
            "+-------------------------------+----------------------+----------------------+\n",
            "                                                                               \n",
            "+-----------------------------------------------------------------------------+\n",
            "| Processes:                                                                  |\n",
            "|  GPU   GI   CI        PID   Type   Process name                  GPU Memory |\n",
            "|        ID   ID                                                   Usage      |\n",
            "|=============================================================================|\n",
            "|  No running processes found                                                 |\n",
            "+-----------------------------------------------------------------------------+\n"
          ],
          "name": "stdout"
        }
      ]
    },
    {
      "cell_type": "code",
      "metadata": {
        "colab": {
          "base_uri": "https://localhost:8080/"
        },
        "id": "9xT5a4RnpYK8",
        "outputId": "4c9ac154-6e71-4799-e8c4-f8e81dd559f4"
      },
      "source": [
        "from psutil import virtual_memory\r\n",
        "ram_gb = virtual_memory().total / 1e9\r\n",
        "print('Your runtime has {:.1f} gigabytes of available RAM\\n'.format(ram_gb))\r\n",
        "\r\n",
        "if ram_gb < 20:\r\n",
        "  print('To enable a high-RAM runtime, select the Runtime > \"Change runtime type\"')\r\n",
        "  print('menu, and then select High-RAM in the Runtime shape dropdown. Then, ')\r\n",
        "  print('re-execute this cell.')\r\n",
        "else:\r\n",
        "  print('You are using a high-RAM runtime!')"
      ],
      "execution_count": 11,
      "outputs": [
        {
          "output_type": "stream",
          "text": [
            "Your runtime has 13.7 gigabytes of available RAM\n",
            "\n",
            "To enable a high-RAM runtime, select the Runtime > \"Change runtime type\"\n",
            "menu, and then select High-RAM in the Runtime shape dropdown. Then, \n",
            "re-execute this cell.\n"
          ],
          "name": "stdout"
        }
      ]
    },
    {
      "cell_type": "code",
      "metadata": {
        "id": "kq1A2aSrpT5G"
      },
      "source": [
        "import torch\r\n",
        "import torchvision\r\n",
        "\r\n",
        "import numpy as np\r\n",
        "import matplotlib.pyplot as plt\r\n",
        "\r\n",
        "from PIL import Image"
      ],
      "execution_count": 12,
      "outputs": []
    },
    {
      "cell_type": "code",
      "metadata": {
        "id": "tLHWLUBgqZ9L"
      },
      "source": [
        "import torchvision.transforms as T\r\n",
        "\r\n",
        "import torch.nn as nn\r\n",
        "import torch.nn.functional as F\r\n",
        "device = torch.device(\"cuda:0\" if torch.cuda.is_available() else \"cpu\")"
      ],
      "execution_count": 13,
      "outputs": []
    },
    {
      "cell_type": "code",
      "metadata": {
        "colab": {
          "base_uri": "https://localhost:8080/",
          "height": 135,
          "referenced_widgets": [
            "f5bd661988094cc5ae15be3e56d591e5",
            "43f1ebca0a074515a168c6b449caf40c",
            "9a69a0f30b52453dbe97fa96a55a4682",
            "a0c15e7e6cf54866b83aaf8208d70a70",
            "dd8e258ed3af4533b7fcd86c7148ac28",
            "eca20fcbec3547eca7c0b24ae8f95510",
            "d8fb48872d0d4819afdfbf58267ddf65",
            "426f9a1defb140ef93d22a143e3e1270",
            "91d3b90149f4474eac4ceeb5879e8c01",
            "749b75bc0fff4fddb8b0747e661a5560",
            "d6d142c819fa4c54b86e77cd60fa549f",
            "398e2aa9364945a8a3b1a976ce206bbd",
            "92c6db945fcf4e5499fa209dc91d2876",
            "f5b3e15c16e742eda9799f0dd6f96d36",
            "47b2caaee8c2452c85ded9797418760d",
            "ce30825b4133455486b5098924c91cc6"
          ]
        },
        "id": "8RMrJ9Qqo-Sv",
        "outputId": "e10bfd34-868a-45c0-c189-361150a58620"
      },
      "source": [
        "\"\"\"\r\n",
        "train_set = torchvision.datasets.SVHN(\r\n",
        "    root = './data/SVHN',\r\n",
        "    split = 'train',\r\n",
        "    download = True,\r\n",
        "    transform = T.ToTensor()\r\n",
        ")\r\n",
        "test_set = torchvision.datasets.SVHN(\r\n",
        "    root = './data/SVHN',\r\n",
        "    split = 'test',\r\n",
        "    download = True,\r\n",
        "    transform = T.ToTensor()\r\n",
        ")\r\n",
        "train_loader = torch.utils.data.DataLoader(train_set, batch_size=1)\r\n",
        "test_loader = torch.utils.data.DataLoader(test_set, batch_size=1)\r\n",
        "\"\"\""
      ],
      "execution_count": 7,
      "outputs": [
        {
          "output_type": "stream",
          "text": [
            "Downloading http://ufldl.stanford.edu/housenumbers/train_32x32.mat to ./data/SVHN/train_32x32.mat\n"
          ],
          "name": "stdout"
        },
        {
          "output_type": "display_data",
          "data": {
            "application/vnd.jupyter.widget-view+json": {
              "model_id": "f5bd661988094cc5ae15be3e56d591e5",
              "version_minor": 0,
              "version_major": 2
            },
            "text/plain": [
              "HBox(children=(FloatProgress(value=1.0, bar_style='info', max=1.0), HTML(value='')))"
            ]
          },
          "metadata": {
            "tags": []
          }
        },
        {
          "output_type": "stream",
          "text": [
            "\n",
            "Downloading http://ufldl.stanford.edu/housenumbers/test_32x32.mat to ./data/SVHN/test_32x32.mat\n"
          ],
          "name": "stdout"
        },
        {
          "output_type": "display_data",
          "data": {
            "application/vnd.jupyter.widget-view+json": {
              "model_id": "91d3b90149f4474eac4ceeb5879e8c01",
              "version_minor": 0,
              "version_major": 2
            },
            "text/plain": [
              "HBox(children=(FloatProgress(value=1.0, bar_style='info', max=1.0), HTML(value='')))"
            ]
          },
          "metadata": {
            "tags": []
          }
        }
      ]
    },
    {
      "cell_type": "code",
      "metadata": {
        "colab": {
          "base_uri": "https://localhost:8080/"
        },
        "id": "xsByBRdTJb-f",
        "outputId": "1549bfbe-0c2b-4955-97f1-66ee8c3e7167"
      },
      "source": [
        "\"\"\"\r\n",
        "mean = 0.\r\n",
        "std = 0.\r\n",
        "nb_samples = 0.\r\n",
        "\r\n",
        "for data, _ in train_loader:\r\n",
        "    batch_samples = data.size(0)\r\n",
        "    data = data.view(batch_samples, data.size(1), -1)\r\n",
        "    mean += data.mean(2).sum(0)\r\n",
        "    std += data.std(2).sum(0)\r\n",
        "    nb_samples += batch_samples\r\n",
        "\r\n",
        "mean /= nb_samples\r\n",
        "std /= nb_samples\r\n",
        "\r\n",
        "print(f'mean = {mean}')\r\n",
        "print(f'std = {std}')\r\n",
        "\"\"\"\r\n",
        "# mean = tensor([0.4377, 0.4438, 0.4728])\r\n",
        "# std = tensor([0.1201, 0.1231, 0.1052])"
      ],
      "execution_count": 9,
      "outputs": [
        {
          "output_type": "stream",
          "text": [
            "mean = tensor([0.4377, 0.4438, 0.4728])\n",
            "std = tensor([0.1201, 0.1231, 0.1052])\n"
          ],
          "name": "stdout"
        }
      ]
    },
    {
      "cell_type": "code",
      "metadata": {
        "colab": {
          "base_uri": "https://localhost:8080/"
        },
        "id": "Xixoy2XKJtPg",
        "outputId": "850e7be2-d9cc-43f1-f94e-2663ca36f12d"
      },
      "source": [
        "transforms = T.Compose([\r\n",
        "                        T.ToTensor(),\r\n",
        "                        T.Normalize((0.4377, 0.4438, 0.4728), (0.1201, 0.1231, 0.1052))\r\n",
        "])\r\n",
        "\r\n",
        "train_set = torchvision.datasets.SVHN(\r\n",
        "    root = './data/SVHN',\r\n",
        "    split = 'train',\r\n",
        "    download = True,\r\n",
        "    transform = T.ToTensor()\r\n",
        ")\r\n",
        "test_set = torchvision.datasets.SVHN(\r\n",
        "    root = './data/SVHN',\r\n",
        "    split = 'test',\r\n",
        "    download = True,\r\n",
        "    transform = T.ToTensor()\r\n",
        ")\r\n",
        "train_loader = torch.utils.data.DataLoader(train_set, batch_size=128)\r\n",
        "test_loader = torch.utils.data.DataLoader(test_set, batch_size=32)"
      ],
      "execution_count": 14,
      "outputs": [
        {
          "output_type": "stream",
          "text": [
            "Using downloaded and verified file: ./data/SVHN/train_32x32.mat\n",
            "Using downloaded and verified file: ./data/SVHN/test_32x32.mat\n"
          ],
          "name": "stdout"
        }
      ]
    },
    {
      "cell_type": "code",
      "metadata": {
        "id": "-63t3zYau11C"
      },
      "source": [
        "#conv[48,5,1,2]-max[2]-\r\n",
        "#conv[64,5,1,2]-conv[128,5,1,2]-max[2]-conv[160,5,1,2]-conv[192,5,1,2]-max[2]-conv[192,5,1,2]-\r\n",
        "#conv[192,5,1,2]-max[2]-conv[192,5,1,2]-fc[3072]-fc[3072]-fc[3072]]\r\n",
        "\r\n",
        "# with ReLU after each layer\r\n",
        "\r\n",
        "# followed by 5 parallel fc + softmax for classification\r\n",
        "\r\n",
        "\r\n",
        "# ST single\r\n",
        "# conv[32,5,1,2]-max[2]-conv[32,5,1,2]-fc[32]-fc[32]\r\n",
        "# vs ST multi\r\n",
        "# fc[32]-fc[32]\r\n",
        "\r\n",
        "\r\n",
        "# omit the first max pooling because image size is 64x64 --> 32x32\r\n",
        "\r\n",
        "class ST_Single_CNN(nn.Module):\r\n",
        "    def __init__(self):\r\n",
        "        super(ST_Single_CNN, self).__init__()\r\n",
        "\r\n",
        "        self.conv1 = nn.Conv2d(3, 48, kernel_size=5, stride=1, padding=2)\r\n",
        "        self.conv2 = nn.Conv2d(48, 64, kernel_size=5, stride=1, padding=2)\r\n",
        "        self.conv3 = nn.Conv2d(64, 128, kernel_size=5, stride=1, padding=2)\r\n",
        "        self.conv4 = nn.Conv2d(128, 160, kernel_size=5, stride=1, padding=2)\r\n",
        "        self.conv5 = nn.Conv2d(160, 192, kernel_size=5, stride=1, padding=2)\r\n",
        "        self.conv6 = nn.Conv2d(192, 192, kernel_size=5, stride=1, padding=2)\r\n",
        "        self.conv7 = nn.Conv2d(192, 192, kernel_size=5, stride=1, padding=2)\r\n",
        "        self.conv8 = nn.Conv2d(192, 192, kernel_size=5, stride=1, padding=2)\r\n",
        "\r\n",
        "        self.loc_conv1 = nn.Conv2d(3, 32, kernel_size=5, stride=1, padding=2)\r\n",
        "        self.loc_conv2 = nn.Conv2d(32, 32, kernel_size=5, stride=1, padding=2)\r\n",
        "\r\n",
        "        self.loc_fc1 = nn.Linear(8192,32)\r\n",
        "        self.loc_fc2 = nn.Linear(32, 6)\r\n",
        "\r\n",
        "        # initialize to predict identity transformer\r\n",
        "        bias = torch.from_numpy(np.array([1,0,0,0,1,0]))\r\n",
        "        nn.init.constant(self.loc_fc2.weight, 0)\r\n",
        "        self.loc_fc2.bias.data.copy_(bias)\r\n",
        "\r\n",
        "        self.fc1 = nn.Linear(3072, 3072)\r\n",
        "        self.fc2 = nn.Linear(3072, 3072)\r\n",
        "\r\n",
        "        self.fc_digit_length = nn.Linear(3072,7)\r\n",
        "\r\n",
        "        self.fc_digit1 = nn.Linear(3072, 11)\r\n",
        "        self.fc_digit2 = nn.Linear(3072, 11)\r\n",
        "        self.fc_digit3 = nn.Linear(3072, 11)\r\n",
        "        self.fc_digit4 = nn.Linear(3072, 11)\r\n",
        "        self.fc_digit5 = nn.Linear(3072, 11)\r\n",
        "        self.fc_digit6 = nn.Linear(3072, 11)\r\n",
        "\r\n",
        "        self.dropout = nn.Dropout(p=0.5)\r\n",
        "\r\n",
        "        self.maxpool = nn.MaxPool2d(2,2)\r\n",
        "\r\n",
        "    def forward(self, x):\r\n",
        "        batch_size = x.size(0)\r\n",
        "\r\n",
        "        theta = self.loc_conv1(x)\r\n",
        "        theta = F.relu(theta)\r\n",
        "        # didnt omitt  max pooling here\r\n",
        "        theta = self.maxpool(theta)\r\n",
        "        theta = self.loc_conv2(theta)\r\n",
        "        theta = F.relu(theta)\r\n",
        "\r\n",
        "        theta = self.loc_fc1(theta.view(batch_size, -1))\r\n",
        "        theta = F.relu(theta)\r\n",
        "        theta = self.loc_fc2(theta).view(batch_size, 2, 3)\r\n",
        "\r\n",
        "        grid = F.affine_grid(theta=theta, size=x.shape)\r\n",
        "        x = F.grid_sample(x, grid)\r\n",
        "\r\n",
        "        x = self.conv1(x)\r\n",
        "        x = F.relu(x)\r\n",
        "        # omitted max pooling here\r\n",
        "\r\n",
        "        x = self.dropout(x)\r\n",
        "        x = self.conv2(x)\r\n",
        "        x = F.relu(x)\r\n",
        "\r\n",
        "        x = self.dropout(x)\r\n",
        "        x = self.conv3(x)\r\n",
        "        x = F.relu(x)\r\n",
        "        x = self.maxpool(x)\r\n",
        "\r\n",
        "        x = self.dropout(x)\r\n",
        "        x = self.conv4(x)\r\n",
        "        x = F.relu(x)\r\n",
        "\r\n",
        "        x = self.dropout(x)\r\n",
        "        x = self.conv5(x)\r\n",
        "        x = F.relu(x)\r\n",
        "        x = self.maxpool(x)\r\n",
        "\r\n",
        "        x = self.dropout(x)\r\n",
        "        x = self.conv6(x)\r\n",
        "        x = F.relu(x)\r\n",
        "\r\n",
        "        x = self.dropout(x)\r\n",
        "        x = self.conv7(x)\r\n",
        "        x = F.relu(x)\r\n",
        "        x = self.maxpool(x)\r\n",
        "        \r\n",
        "        x = self.dropout(x)\r\n",
        "        x = self.conv8(x)\r\n",
        "        x = F.relu(x)\r\n",
        "\r\n",
        "        x = x.view(batch_size, 3072)\r\n",
        "\r\n",
        "        x = self.dropout(x)\r\n",
        "        x = self.fc1(x)\r\n",
        "        x = F.relu(x)\r\n",
        "\r\n",
        "        x = self.dropout(x)\r\n",
        "        x = self.fc2(x)\r\n",
        "        x = F.relu(x)\r\n",
        "\r\n",
        "        digit1 = self.fc_digit1(x)\r\n",
        "        #digit2 = self.fc_digit2(x)\r\n",
        "        #digit3 = self.fc_digit3(x)\r\n",
        "        #digit4 = self.fc_digit4(x)\r\n",
        "        #digit5 = self.fc_digit5(x)\r\n",
        "        #digit6 = self.fc_digit6(x)\r\n",
        "        #digit_length = self.fc_digit_length(x)\r\n",
        "\r\n",
        "        #return [digit1, digit2, digit3, digit4, digit5, digit6], digit_length\r\n",
        "        return digit1\r\n",
        "\r\n",
        "# with reference to https://github.com/potterhsu/SVHNClassifier-PyTorch"
      ],
      "execution_count": 15,
      "outputs": []
    },
    {
      "cell_type": "code",
      "metadata": {
        "id": "LcuB1959u1y0"
      },
      "source": [
        "# dropout 0.5 for all layters except first conv layer and localization network\r\n",
        "# learning rate for Spatial transformer network = 1/10 of base learning rate\r\n"
      ],
      "execution_count": 33,
      "outputs": []
    },
    {
      "cell_type": "code",
      "metadata": {
        "id": "B1lOaHQ6u1wm"
      },
      "source": [
        "#conv[48,5,1,2]-max[2]-\r\n",
        "#conv[64,5,1,2]-conv[128,5,1,2]-max[2]-conv[160,5,1,2]-conv[192,5,1,2]-max[2]-conv[192,5,1,2]-\r\n",
        "#conv[192,5,1,2]-max[2]-conv[192,5,1,2]-fc[3072]-fc[3072]-fc[3072]]"
      ],
      "execution_count": 34,
      "outputs": []
    },
    {
      "cell_type": "code",
      "metadata": {
        "id": "jsRm6Zz-iWiw"
      },
      "source": [
        "# define custom loss function with cross_entropy\r\n",
        "\r\n",
        "def custom_loss_function(label_length, label_digits, pred_length, pred_digits):\r\n",
        "    loss = F.cross_entropy(label_length, pred_length)\r\n",
        "    loss += F.cross_entropy(label_digits[0], pred_digits[0])\r\n",
        "\r\n",
        "    if label_length > 1:\r\n",
        "        loss += F.cross_entropy(label_digits[1], pred_digits[1])\r\n",
        "    if label_length > 2:\r\n",
        "        loss += F.cross_entropy(label_digits[2], pred_digits[2])\r\n",
        "    if label_length > 3:\r\n",
        "        loss +=F.cross_entropy(label_digits[3], pred_digits[3])\r\n",
        "    if label_length > 4:\r\n",
        "        loss += F.cross_entropy(label_digits[4], pred_digits[4])\r\n",
        "    if label_length > 5:\r\n",
        "        loss += F.cross_entropy(label_digits[5], pred_digits[5])\r\n",
        "        \r\n",
        "    return loss"
      ],
      "execution_count": 35,
      "outputs": []
    },
    {
      "cell_type": "code",
      "metadata": {
        "id": "rLdxm_oNu1uE"
      },
      "source": [
        "# define custom loss function with cross_entropy\r\n",
        "\r\n",
        "def custom_loss_function(label_length, label_digits, pred_length, pred_digits):\r\n",
        "    legnth_ce = F.cross_entropy(label_length, pred_length)\r\n",
        "    digit1_ce = F.cross_entropy(label_digits[0], pred_digits[0])\r\n",
        "    digit2_ce = F.cross_entropy(label_digits[1], pred_digits[1])\r\n",
        "    digit3_ce = F.cross_entropy(label_digits[2], pred_digits[2])\r\n",
        "    digit4_ce = F.cross_entropy(label_digits[3], pred_digits[3])\r\n",
        "    digit5_ce = F.cross_entropy(label_digits[4], pred_digits[4])\r\n",
        "    digit6_ce = F.cross_entropy(label_digits[5], pred_digits[5])\r\n",
        "\r\n",
        "    loss = length_ce + digit1_ce + digit2_ce + digit3_ce + digit4_ce + digit5_ce + digit6_ce\r\n",
        "    return loss"
      ],
      "execution_count": 36,
      "outputs": []
    },
    {
      "cell_type": "code",
      "metadata": {
        "id": "4ju_llrPebWU"
      },
      "source": [
        "# define custom loss function with cross_entropy\r\n",
        "\r\n",
        "def custom_acc_function(label_length, label_digits, pred_length, pred_digits):\r\n",
        "    legnth_check = abel_length == pred_length\r\n",
        "    digit1_check = (label_digits[:,0] == pred_digits[:,0]).mean()\r\n",
        "    digit2_check = (label_digits[:,1] == pred_digits[:,1]).mean()\r\n",
        "    digit3_check = (label_digits[:,2] == pred_digits[:,2]).mean()\r\n",
        "    digit4_check = (label_digits[:,3] == pred_digits[:,3]).mean()\r\n",
        "    digit5_check = (label_digits[:,4] == pred_digits[:,4]).mean()\r\n",
        "    digit6_check = (label_digits[:,5] == pred_digits[:,5]).mean()\r\n",
        "\r\n",
        "    acc = length_check + digit1_check + digit2_check + digit3_check + digit4_check + digit5_check + digit6_check\r\n",
        "    acc /= 7\r\n",
        "    return acc"
      ],
      "execution_count": 37,
      "outputs": []
    },
    {
      "cell_type": "code",
      "metadata": {
        "colab": {
          "base_uri": "https://localhost:8080/"
        },
        "id": "2T-wlaCtU8sV",
        "outputId": "63492fee-8f87-4ac2-c094-96de1c26647f"
      },
      "source": [
        "model = ST_Single_CNN()"
      ],
      "execution_count": 16,
      "outputs": [
        {
          "output_type": "stream",
          "text": [
            "/usr/local/lib/python3.6/dist-packages/ipykernel_launcher.py:39: UserWarning: nn.init.constant is now deprecated in favor of nn.init.constant_.\n"
          ],
          "name": "stderr"
        }
      ]
    },
    {
      "cell_type": "code",
      "metadata": {
        "colab": {
          "base_uri": "https://localhost:8080/"
        },
        "id": "Eskwg_GTVqAb",
        "outputId": "1463fb1c-f9a8-4ca2-e91d-3251d3c272ee"
      },
      "source": [
        "model.to(device)"
      ],
      "execution_count": 17,
      "outputs": [
        {
          "output_type": "execute_result",
          "data": {
            "text/plain": [
              "ST_Single_CNN(\n",
              "  (conv1): Conv2d(3, 48, kernel_size=(5, 5), stride=(1, 1), padding=(2, 2))\n",
              "  (conv2): Conv2d(48, 64, kernel_size=(5, 5), stride=(1, 1), padding=(2, 2))\n",
              "  (conv3): Conv2d(64, 128, kernel_size=(5, 5), stride=(1, 1), padding=(2, 2))\n",
              "  (conv4): Conv2d(128, 160, kernel_size=(5, 5), stride=(1, 1), padding=(2, 2))\n",
              "  (conv5): Conv2d(160, 192, kernel_size=(5, 5), stride=(1, 1), padding=(2, 2))\n",
              "  (conv6): Conv2d(192, 192, kernel_size=(5, 5), stride=(1, 1), padding=(2, 2))\n",
              "  (conv7): Conv2d(192, 192, kernel_size=(5, 5), stride=(1, 1), padding=(2, 2))\n",
              "  (conv8): Conv2d(192, 192, kernel_size=(5, 5), stride=(1, 1), padding=(2, 2))\n",
              "  (loc_conv1): Conv2d(3, 32, kernel_size=(5, 5), stride=(1, 1), padding=(2, 2))\n",
              "  (loc_conv2): Conv2d(32, 32, kernel_size=(5, 5), stride=(1, 1), padding=(2, 2))\n",
              "  (loc_fc1): Linear(in_features=8192, out_features=32, bias=True)\n",
              "  (loc_fc2): Linear(in_features=32, out_features=6, bias=True)\n",
              "  (fc1): Linear(in_features=3072, out_features=3072, bias=True)\n",
              "  (fc2): Linear(in_features=3072, out_features=3072, bias=True)\n",
              "  (fc_digit_length): Linear(in_features=3072, out_features=7, bias=True)\n",
              "  (fc_digit1): Linear(in_features=3072, out_features=11, bias=True)\n",
              "  (fc_digit2): Linear(in_features=3072, out_features=11, bias=True)\n",
              "  (fc_digit3): Linear(in_features=3072, out_features=11, bias=True)\n",
              "  (fc_digit4): Linear(in_features=3072, out_features=11, bias=True)\n",
              "  (fc_digit5): Linear(in_features=3072, out_features=11, bias=True)\n",
              "  (fc_digit6): Linear(in_features=3072, out_features=11, bias=True)\n",
              "  (dropout): Dropout(p=0.5, inplace=False)\n",
              "  (maxpool): MaxPool2d(kernel_size=2, stride=2, padding=0, dilation=1, ceil_mode=False)\n",
              ")"
            ]
          },
          "metadata": {
            "tags": []
          },
          "execution_count": 17
        }
      ]
    },
    {
      "cell_type": "code",
      "metadata": {
        "id": "WGLR7BvWYFlE"
      },
      "source": [
        "local_list=['loc_conv1.weight', 'loc_conv1.bias',\r\n",
        "            'loc_conv2.weight', 'loc_conv2.bias',\r\n",
        "            'loc_fc1.weight', 'loc_fc1.bias',\r\n",
        "            'loc_fc2.weight', 'loc_fc2.bias']\r\n",
        "local_params=list(filter(lambda kv: kv[0] in local_list, model.named_parameters()))\r\n",
        "base_params=list(filter(lambda kv: kv[0] not in local_list, model.named_parameters()))\r\n",
        "\r\n",
        "local_params = [param[1] for param in local_params]\r\n",
        "base_params = [param[1] for param in base_params]"
      ],
      "execution_count": 24,
      "outputs": []
    },
    {
      "cell_type": "code",
      "metadata": {
        "id": "LjxQf9XNU8wx"
      },
      "source": [
        "def train_one_epoch(model, train_loader, loss_function, optimizer, epoch):\r\n",
        "    model.train()\r\n",
        "    length = len(train_loader)\r\n",
        "    running_loss = 0.0\r\n",
        "\r\n",
        "    for i, (image, label) in enumerate(train_loader):\r\n",
        "        image = image.to(device)\r\n",
        "        label = label.to(device)\r\n",
        "\r\n",
        "        optimizer.zero_grad()\r\n",
        "\r\n",
        "        pred = model(image)\r\n",
        "        loss = loss_function(pred, label)\r\n",
        "    \r\n",
        "        loss.backward()\r\n",
        "        \r\n",
        "        optimizer.step()\r\n",
        "\r\n",
        "        running_loss += loss.item()\r\n",
        "\r\n",
        "        if i % 50 == 0:\r\n",
        "            print(f'after looking at {(i+1)*128} images, running_loss is {running_loss/(i+1):.4f}')\r\n",
        "\r\n",
        "    print(f'epoch {epoch} : loss {running_loss/length:.4f}')\r\n",
        "\r\n",
        "\r\n",
        "def eval_one_epoch(model, test_loader, epoch, best_val_acc):\r\n",
        "    model.eval()\r\n",
        "    length = len(test_loader)\r\n",
        "    running_acc = 0.0\r\n",
        "\r\n",
        "    for i, (image, label) in enumerate(test_loader):\r\n",
        "        image, label = image.to(device), label.numpy()\r\n",
        "\r\n",
        "        pred = model(image)\r\n",
        "        pred_label = pred.argmax(axis=1).detach().cpu().numpy()\r\n",
        "        running_acc += (pred_label==label).mean()\r\n",
        "\r\n",
        "        if i % 50 == 0:\r\n",
        "            print(f'after looking at {(i+1)*32} images, running_acc is {running_acc/(i+1):.4f}')\r\n",
        "\r\n",
        "    val_acc = running_acc/length\r\n",
        "\r\n",
        "    print(f'epoch {epoch} : acc {val_acc:.4f}')\r\n",
        "\r\n",
        "    if val_acc > best_val_acc:\r\n",
        "        print(\"### saving current model...### \\n\")\r\n",
        "        torch.save(model.state_dict(), MODELPATH+f'SVHN_pretrained_{epoch}_epochs')\r\n",
        "        best_val_acc = val_acc\r\n",
        "\r\n",
        "    return val_acc"
      ],
      "execution_count": 19,
      "outputs": []
    },
    {
      "cell_type": "code",
      "metadata": {
        "id": "03B9KilAV4oi"
      },
      "source": [
        "# hyperparameters from paper\r\n",
        "# assuming same for pretraining\r\n",
        "\r\n",
        "learning_rate = 0.01\r\n",
        "momentum = 0.9\r\n",
        "weight_decay = 5e-4\r\n",
        "epochs = 100"
      ],
      "execution_count": 20,
      "outputs": []
    },
    {
      "cell_type": "code",
      "metadata": {
        "id": "Kzc-3HgZV4q5"
      },
      "source": [
        "loss_function = nn.CrossEntropyLoss()\r\n",
        "\r\n",
        "optimizer = torch.optim.SGD([{'params':base_params},\r\n",
        "                             {'params':local_params, 'lr':learning_rate/10}], \r\n",
        "                             lr=learning_rate, weight_decay=weight_decay)\r\n",
        "\r\n",
        "scheduler = torch.optim.lr_scheduler.StepLR(\r\n",
        "    optimizer, step_size=20, gamma=0.1\r\n",
        ")\r\n"
      ],
      "execution_count": 21,
      "outputs": []
    },
    {
      "cell_type": "code",
      "metadata": {
        "colab": {
          "base_uri": "https://localhost:8080/",
          "height": 1000
        },
        "id": "27H2dxX6V8Us",
        "outputId": "b8dd3bf1-aaba-4886-9571-f2b39ad5ce49"
      },
      "source": [
        "val_acc_list = []\r\n",
        "best_val_acc = 0\r\n",
        "\r\n",
        "for epoch in range(epochs):\r\n",
        "\r\n",
        "    local_list=['loc_conv1.weight', 'loc_conv1.bias',\r\n",
        "            'loc_conv2.weight', 'loc_conv2.bias',\r\n",
        "            'loc_fc1.weight', 'loc_fc1.bias',\r\n",
        "            'loc_fc2.weight', 'loc_fc2.bias']\r\n",
        "    local_params=list(filter(lambda kv: kv[0] in local_list, model.named_parameters()))\r\n",
        "    base_params=list(filter(lambda kv: kv[0] not in local_list, model.named_parameters()))\r\n",
        "\r\n",
        "    local_params = [param[1] for param in local_params]\r\n",
        "    base_params = [param[1] for param in base_params]\r\n",
        "    \r\n",
        "    optimizer = torch.optim.SGD([{'params':base_params},\r\n",
        "                                {'params':local_params, 'lr':learning_rate/10}], \r\n",
        "                                lr=learning_rate, weight_decay=weight_decay)\r\n",
        "\r\n",
        "    scheduler = torch.optim.lr_scheduler.StepLR(\r\n",
        "        optimizer, step_size=20, gamma=0.1\r\n",
        "    )\r\n",
        "\r\n",
        "    train_one_epoch(model, train_loader, loss_function, optimizer, epoch)\r\n",
        "    val_acc_list.append(eval_one_epoch(model, test_loader, epoch,best_val_acc))\r\n",
        "    best_val_acc = max(val_acc_list)\r\n",
        "    scheduler.step()"
      ],
      "execution_count": 25,
      "outputs": [
        {
          "output_type": "stream",
          "text": [
            "/usr/local/lib/python3.6/dist-packages/torch/nn/functional.py:3448: UserWarning: Default grid_sample and affine_grid behavior has changed to align_corners=False since 1.3.0. Please specify align_corners=True if the old behavior is desired. See the documentation of grid_sample for details.\n",
            "  warnings.warn(\"Default grid_sample and affine_grid behavior has changed \"\n",
            "/usr/local/lib/python3.6/dist-packages/torch/nn/functional.py:3385: UserWarning: Default grid_sample and affine_grid behavior has changed to align_corners=False since 1.3.0. Please specify align_corners=True if the old behavior is desired. See the documentation of grid_sample for details.\n",
            "  warnings.warn(\"Default grid_sample and affine_grid behavior has changed \"\n"
          ],
          "name": "stderr"
        },
        {
          "output_type": "stream",
          "text": [
            "after looking at 128 images, running_loss is 2.1840\n",
            "after looking at 6528 images, running_loss is 2.2349\n",
            "after looking at 12928 images, running_loss is 2.2351\n",
            "after looking at 19328 images, running_loss is 2.2372\n",
            "after looking at 25728 images, running_loss is 2.2370\n",
            "after looking at 32128 images, running_loss is 2.2391\n",
            "after looking at 38528 images, running_loss is 2.2391\n",
            "after looking at 44928 images, running_loss is 2.2387\n",
            "after looking at 51328 images, running_loss is 2.2381\n",
            "after looking at 57728 images, running_loss is 2.2382\n",
            "after looking at 64128 images, running_loss is 2.2380\n",
            "after looking at 70528 images, running_loss is 2.2378\n",
            "epoch 0 : loss 2.2383\n",
            "after looking at 32 images, running_acc is 0.2500\n",
            "after looking at 1632 images, running_acc is 0.1875\n",
            "after looking at 3232 images, running_acc is 0.1946\n",
            "after looking at 4832 images, running_acc is 0.1966\n",
            "after looking at 6432 images, running_acc is 0.1942\n",
            "after looking at 8032 images, running_acc is 0.1926\n",
            "after looking at 9632 images, running_acc is 0.1963\n",
            "after looking at 11232 images, running_acc is 0.1963\n",
            "after looking at 12832 images, running_acc is 0.1947\n",
            "after looking at 14432 images, running_acc is 0.1947\n",
            "after looking at 16032 images, running_acc is 0.1946\n",
            "after looking at 17632 images, running_acc is 0.1959\n",
            "after looking at 19232 images, running_acc is 0.1956\n",
            "after looking at 20832 images, running_acc is 0.1948\n",
            "after looking at 22432 images, running_acc is 0.1955\n",
            "after looking at 24032 images, running_acc is 0.1958\n",
            "after looking at 25632 images, running_acc is 0.1956\n",
            "epoch 0 : acc 0.1959\n",
            "### saving current model...### \n",
            "\n",
            "after looking at 128 images, running_loss is 2.1869\n",
            "after looking at 6528 images, running_loss is 2.2355\n",
            "after looking at 12928 images, running_loss is 2.2353\n",
            "after looking at 19328 images, running_loss is 2.2374\n",
            "after looking at 25728 images, running_loss is 2.2372\n",
            "after looking at 32128 images, running_loss is 2.2393\n",
            "after looking at 38528 images, running_loss is 2.2393\n",
            "after looking at 44928 images, running_loss is 2.2389\n",
            "after looking at 51328 images, running_loss is 2.2380\n",
            "after looking at 57728 images, running_loss is 2.2381\n",
            "after looking at 64128 images, running_loss is 2.2379\n",
            "after looking at 70528 images, running_loss is 2.2378\n",
            "epoch 1 : loss 2.2383\n",
            "after looking at 32 images, running_acc is 0.2500\n",
            "after looking at 1632 images, running_acc is 0.1875\n",
            "after looking at 3232 images, running_acc is 0.1946\n",
            "after looking at 4832 images, running_acc is 0.1966\n",
            "after looking at 6432 images, running_acc is 0.1942\n",
            "after looking at 8032 images, running_acc is 0.1926\n",
            "after looking at 9632 images, running_acc is 0.1963\n",
            "after looking at 11232 images, running_acc is 0.1963\n",
            "after looking at 12832 images, running_acc is 0.1947\n",
            "after looking at 14432 images, running_acc is 0.1947\n",
            "after looking at 16032 images, running_acc is 0.1946\n",
            "after looking at 17632 images, running_acc is 0.1959\n",
            "after looking at 19232 images, running_acc is 0.1956\n",
            "after looking at 20832 images, running_acc is 0.1948\n",
            "after looking at 22432 images, running_acc is 0.1955\n",
            "after looking at 24032 images, running_acc is 0.1958\n",
            "after looking at 25632 images, running_acc is 0.1956\n",
            "epoch 1 : acc 0.1959\n",
            "after looking at 128 images, running_loss is 2.1836\n",
            "after looking at 6528 images, running_loss is 2.2345\n"
          ],
          "name": "stdout"
        },
        {
          "output_type": "error",
          "ename": "KeyboardInterrupt",
          "evalue": "ignored",
          "traceback": [
            "\u001b[0;31m---------------------------------------------------------------------------\u001b[0m",
            "\u001b[0;31mKeyboardInterrupt\u001b[0m                         Traceback (most recent call last)",
            "\u001b[0;32m<ipython-input-25-fc0a38082ed8>\u001b[0m in \u001b[0;36m<module>\u001b[0;34m()\u001b[0m\n\u001b[1;32m     22\u001b[0m     )\n\u001b[1;32m     23\u001b[0m \u001b[0;34m\u001b[0m\u001b[0m\n\u001b[0;32m---> 24\u001b[0;31m     \u001b[0mtrain_one_epoch\u001b[0m\u001b[0;34m(\u001b[0m\u001b[0mmodel\u001b[0m\u001b[0;34m,\u001b[0m \u001b[0mtrain_loader\u001b[0m\u001b[0;34m,\u001b[0m \u001b[0mloss_function\u001b[0m\u001b[0;34m,\u001b[0m \u001b[0moptimizer\u001b[0m\u001b[0;34m,\u001b[0m \u001b[0mepoch\u001b[0m\u001b[0;34m)\u001b[0m\u001b[0;34m\u001b[0m\u001b[0;34m\u001b[0m\u001b[0m\n\u001b[0m\u001b[1;32m     25\u001b[0m     \u001b[0mval_acc_list\u001b[0m\u001b[0;34m.\u001b[0m\u001b[0mappend\u001b[0m\u001b[0;34m(\u001b[0m\u001b[0meval_one_epoch\u001b[0m\u001b[0;34m(\u001b[0m\u001b[0mmodel\u001b[0m\u001b[0;34m,\u001b[0m \u001b[0mtest_loader\u001b[0m\u001b[0;34m,\u001b[0m \u001b[0mepoch\u001b[0m\u001b[0;34m,\u001b[0m\u001b[0mbest_val_acc\u001b[0m\u001b[0;34m)\u001b[0m\u001b[0;34m)\u001b[0m\u001b[0;34m\u001b[0m\u001b[0;34m\u001b[0m\u001b[0m\n\u001b[1;32m     26\u001b[0m     \u001b[0mbest_val_acc\u001b[0m \u001b[0;34m=\u001b[0m \u001b[0mmax\u001b[0m\u001b[0;34m(\u001b[0m\u001b[0mval_acc_list\u001b[0m\u001b[0;34m)\u001b[0m\u001b[0;34m\u001b[0m\u001b[0;34m\u001b[0m\u001b[0m\n",
            "\u001b[0;32m<ipython-input-19-f972417e3e63>\u001b[0m in \u001b[0;36mtrain_one_epoch\u001b[0;34m(model, train_loader, loss_function, optimizer, epoch)\u001b[0m\n\u001b[1;32m     17\u001b[0m         \u001b[0moptimizer\u001b[0m\u001b[0;34m.\u001b[0m\u001b[0mstep\u001b[0m\u001b[0;34m(\u001b[0m\u001b[0;34m)\u001b[0m\u001b[0;34m\u001b[0m\u001b[0;34m\u001b[0m\u001b[0m\n\u001b[1;32m     18\u001b[0m \u001b[0;34m\u001b[0m\u001b[0m\n\u001b[0;32m---> 19\u001b[0;31m         \u001b[0mrunning_loss\u001b[0m \u001b[0;34m+=\u001b[0m \u001b[0mloss\u001b[0m\u001b[0;34m.\u001b[0m\u001b[0mitem\u001b[0m\u001b[0;34m(\u001b[0m\u001b[0;34m)\u001b[0m\u001b[0;34m\u001b[0m\u001b[0;34m\u001b[0m\u001b[0m\n\u001b[0m\u001b[1;32m     20\u001b[0m \u001b[0;34m\u001b[0m\u001b[0m\n\u001b[1;32m     21\u001b[0m         \u001b[0;32mif\u001b[0m \u001b[0mi\u001b[0m \u001b[0;34m%\u001b[0m \u001b[0;36m50\u001b[0m \u001b[0;34m==\u001b[0m \u001b[0;36m0\u001b[0m\u001b[0;34m:\u001b[0m\u001b[0;34m\u001b[0m\u001b[0;34m\u001b[0m\u001b[0m\n",
            "\u001b[0;31mKeyboardInterrupt\u001b[0m: "
          ]
        }
      ]
    },
    {
      "cell_type": "code",
      "metadata": {
        "id": "GEmKwvKabL9-"
      },
      "source": [
        ""
      ],
      "execution_count": null,
      "outputs": []
    },
    {
      "cell_type": "code",
      "metadata": {
        "id": "cHo6KyMQbOcX"
      },
      "source": [
        ""
      ],
      "execution_count": null,
      "outputs": []
    }
  ]
}